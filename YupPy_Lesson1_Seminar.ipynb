{
  "metadata": {
    "language_info": {
      "codemirror_mode": {
        "name": "python",
        "version": 3
      },
      "file_extension": ".py",
      "mimetype": "text/x-python",
      "name": "python",
      "nbconvert_exporter": "python",
      "pygments_lexer": "ipython3",
      "version": "3.8"
    },
    "kernelspec": {
      "name": "python",
      "display_name": "Python (Pyodide)",
      "language": "python"
    }
  },
  "nbformat_minor": 4,
  "nbformat": 4,
  "cells": [
    {
      "cell_type": "markdown",
      "source": "# **Задание 1**",
      "metadata": {}
    },
    {
      "cell_type": "markdown",
      "source": "## 1.1 Соедините два словаря в один",
      "metadata": {}
    },
    {
      "cell_type": "code",
      "source": "dict1 = {'One': 1, 'Two': 2, 'Three': 3}\ndict2 = {'Four': 4, 'Five': 5, 'Six': 6}\ndict1.update(dict2)\nprint(dict1)",
      "metadata": {
        "trusted": true
      },
      "execution_count": 7,
      "outputs": [
        {
          "name": "stdout",
          "text": "{'One': 1, 'Two': 2, 'Three': 3, 'Four': 4, 'Five': 5, 'Six': 6}\n",
          "output_type": "stream"
        }
      ]
    },
    {
      "cell_type": "markdown",
      "source": "## 1.2 Напишите функцию, которая на вход принимает два словаря и возвращает один объединенный словарь Используйте аннотирование типов",
      "metadata": {}
    },
    {
      "cell_type": "code",
      "source": "def func(dict1, dict2):\n    dict1.update(dict2)\n    return(dict1)\nfunc(dict1, dict2)",
      "metadata": {
        "trusted": true
      },
      "execution_count": 10,
      "outputs": [
        {
          "execution_count": 10,
          "output_type": "execute_result",
          "data": {
            "text/plain": "{'One': 1, 'Two': 2, 'Three': 3, 'Four': 4, 'Five': 5, 'Six': 6}"
          },
          "metadata": {}
        }
      ]
    },
    {
      "cell_type": "markdown",
      "source": "# **Задание2**",
      "metadata": {}
    },
    {
      "cell_type": "markdown",
      "source": "Напишите функцию, которая из двух списков, делает один словарь, \nгде элементы из первого списка - ключи, \nа элементы из второго списка - значения\nИспользуйте аннотирование типов",
      "metadata": {}
    },
    {
      "cell_type": "markdown",
      "source": "keys = ['One', 'Two', 'Three']\nvalues = [1, 2, 3]",
      "metadata": {}
    },
    {
      "cell_type": "markdown",
      "source": "## 2.1 Используя цикл for",
      "metadata": {}
    },
    {
      "cell_type": "code",
      "source": "keys = ['One', 'Two', 'Three']\nvalues = [1, 2, 3]\n\nl3 = {}\nfor i in range(len(keys)):\n    l3[keys[i]] = values[i]\nl3",
      "metadata": {
        "trusted": true
      },
      "execution_count": 14,
      "outputs": [
        {
          "execution_count": 14,
          "output_type": "execute_result",
          "data": {
            "text/plain": "{'One': 1, 'Two': 2, 'Three': 3}"
          },
          "metadata": {}
        }
      ]
    },
    {
      "cell_type": "markdown",
      "source": "## 2.2 Используя dict comprehensions",
      "metadata": {}
    },
    {
      "cell_type": "code",
      "source": "keys = ['One', 'Two', 'Three']\nvalues = [1, 2, 3]\nl4 = {keys[i]:values[i] for i in range(len(keys))} #enumerate вместо range\nl4",
      "metadata": {
        "trusted": true
      },
      "execution_count": 29,
      "outputs": [
        {
          "execution_count": 29,
          "output_type": "execute_result",
          "data": {
            "text/plain": "{'One': 1, 'Two': 2, 'Three': 3}"
          },
          "metadata": {}
        }
      ]
    },
    {
      "cell_type": "code",
      "source": "keys = ['One', 'Two', 'Three']\nvalues = [1, 2, 3]\nl5 = {keys[i]:values[i] for i,_ in enumerate(keys)}\nl5",
      "metadata": {
        "trusted": true
      },
      "execution_count": 28,
      "outputs": [
        {
          "execution_count": 28,
          "output_type": "execute_result",
          "data": {
            "text/plain": "{'One': 1, 'Two': 2, 'Three': 3}"
          },
          "metadata": {}
        }
      ]
    },
    {
      "cell_type": "markdown",
      "source": "# Задание 3",
      "metadata": {}
    },
    {
      "cell_type": "markdown",
      "source": "Извлеките только два ключа name И age из представленного списка.\n\n3.1 Напишите функцию с циклом for\nФункция на вход принимает:\nисходный словарь\nclient_dict = {\n    'name': 'John',\n    'age': 25,\n    'salary': 5000,\n    'city': 'Moscow'\n}\nключи, которые нужно извлечь (аргумент по умолчанию)\nНа выходе словарь с нужными ключами\nИспользуйте аннотирование типов\n3.2 Используя dict comprehensions",
      "metadata": {}
    },
    {
      "cell_type": "markdown",
      "source": "## 3.1 Напишите функцию с циклом for",
      "metadata": {}
    },
    {
      "cell_type": "code",
      "source": "client_dict = {\n    'name': 'John',\n    'age': 25,\n    'salary': 5000,\n    'city': 'Moscow'\n}\ndef f(d: dict, k: list) -> dict:\n    answer = {}\n    for word in k:    \n        answer.update({word: d[word]})\n    return answer\nf(client_dict, ['name', 'age'])",
      "metadata": {
        "trusted": true
      },
      "execution_count": 25,
      "outputs": [
        {
          "execution_count": 25,
          "output_type": "execute_result",
          "data": {
            "text/plain": "{'name': 'John', 'age': 25}"
          },
          "metadata": {}
        }
      ]
    },
    {
      "cell_type": "markdown",
      "source": "## 3.2 Используя dict comprehensions",
      "metadata": {}
    },
    {
      "cell_type": "code",
      "source": "client_dict = {\n    'name': 'John',\n    'age': 25,\n    'salary': 5000,\n    'city': 'Moscow'\n}\nl = ['city', 'age']\nnew_dict = {i: client_dict[i] for i in l}\nnew_dict",
      "metadata": {
        "trusted": true
      },
      "execution_count": 30,
      "outputs": [
        {
          "execution_count": 30,
          "output_type": "execute_result",
          "data": {
            "text/plain": "{'city': 'Moscow', 'age': 25}"
          },
          "metadata": {}
        }
      ]
    },
    {
      "cell_type": "markdown",
      "source": "# Задание 4",
      "metadata": {}
    },
    {
      "cell_type": "markdown",
      "source": "4.1 Сгенерируйте случайные целые числа от 0 до 100 в количестве 5 штук с помощью модуля random\nЗафиксируйте псевдогенерацию, чтобы сгенерированные значения всегда были одинаковые\nИспользуйте list comprehensions",
      "metadata": {}
    },
    {
      "cell_type": "code",
      "source": "import random",
      "metadata": {
        "trusted": true
      },
      "execution_count": 33,
      "outputs": []
    },
    {
      "cell_type": "code",
      "source": "random.seed(7)\nlist = [random.randint(0, 101) for i in range(5)]\nlist",
      "metadata": {
        "trusted": true
      },
      "execution_count": 39,
      "outputs": [
        {
          "execution_count": 39,
          "output_type": "execute_result",
          "data": {
            "text/plain": "[41, 19, 50, 83, 6]"
          },
          "metadata": {}
        }
      ]
    },
    {
      "cell_type": "code",
      "source": "",
      "metadata": {},
      "execution_count": null,
      "outputs": []
    },
    {
      "cell_type": "code",
      "source": "",
      "metadata": {},
      "execution_count": null,
      "outputs": []
    },
    {
      "cell_type": "code",
      "source": "",
      "metadata": {},
      "execution_count": null,
      "outputs": []
    }
  ]
}